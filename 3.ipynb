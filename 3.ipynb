{
  "nbformat": 4,
  "nbformat_minor": 0,
  "metadata": {
    "colab": {
      "provenance": []
    },
    "kernelspec": {
      "name": "python3",
      "display_name": "Python 3"
    },
    "language_info": {
      "name": "python"
    }
  },
  "cells": [
    {
      "cell_type": "markdown",
      "source": [
        "**3.Keras_tutorial2.ipynb**"
      ],
      "metadata": {
        "id": "-oHZiWog6uYM"
      }
    },
    {
      "cell_type": "code",
      "source": [
        "from tensorflow import keras\n",
        "from keras.models import Sequential\n",
        "from keras.layers import Dense, Dropout\n",
        "\n",
        "model = Sequential()\n",
        "model.add(Dense(512, activation='relu', input_dim=784))\n",
        "model.add(Dropout(0.2))\n",
        "model.add(Dense(10, activation='softmax'))\n",
        "model.compile(optimizer='adam', loss='categorical_crossentropy', metrics=['accuracy'])\n",
        "\n",
        "import numpy as np\n",
        "data = np.random.random((1000, 784))\n",
        "labels = np.random.randint(10, size=(1000, 10))\n",
        "\n",
        "model.fit(data, labels, epochs=10, batch_size=32)\n",
        "\n",
        "score=model.evaluate(data, labels)\n",
        "print(score[1])\n",
        ""
      ],
      "metadata": {
        "colab": {
          "base_uri": "https://localhost:8080/"
        },
        "id": "iIziXKU06viz",
        "outputId": "934b8573-ec83-45f9-b6a4-9430d7daec69"
      },
      "execution_count": 1,
      "outputs": [
        {
          "output_type": "stream",
          "name": "stdout",
          "text": [
            "Epoch 1/10\n",
            "32/32 [==============================] - 2s 15ms/step - loss: 414.3059 - accuracy: 0.0760\n",
            "Epoch 2/10\n",
            "32/32 [==============================] - 0s 11ms/step - loss: 1386.4060 - accuracy: 0.0750\n",
            "Epoch 3/10\n",
            "32/32 [==============================] - 0s 10ms/step - loss: 2449.9746 - accuracy: 0.0820\n",
            "Epoch 4/10\n",
            "32/32 [==============================] - 0s 10ms/step - loss: 3369.5652 - accuracy: 0.0760\n",
            "Epoch 5/10\n",
            "32/32 [==============================] - 0s 10ms/step - loss: 4502.4570 - accuracy: 0.0870\n",
            "Epoch 6/10\n",
            "32/32 [==============================] - 0s 9ms/step - loss: 5724.0591 - accuracy: 0.0780\n",
            "Epoch 7/10\n",
            "32/32 [==============================] - 0s 10ms/step - loss: 6376.2622 - accuracy: 0.0910\n",
            "Epoch 8/10\n",
            "32/32 [==============================] - 0s 10ms/step - loss: 7989.4180 - accuracy: 0.0840\n",
            "Epoch 9/10\n",
            "32/32 [==============================] - 0s 10ms/step - loss: 9052.2227 - accuracy: 0.0860\n",
            "Epoch 10/10\n",
            "32/32 [==============================] - 0s 10ms/step - loss: 10112.5254 - accuracy: 0.0840\n",
            "32/32 [==============================] - 0s 4ms/step - loss: 8287.5449 - accuracy: 0.0570\n",
            "0.05700000002980232\n"
          ]
        }
      ]
    }
  ]
}