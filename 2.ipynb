{
  "nbformat": 4,
  "nbformat_minor": 0,
  "metadata": {
    "colab": {
      "provenance": []
    },
    "kernelspec": {
      "name": "python3",
      "display_name": "Python 3"
    },
    "language_info": {
      "name": "python"
    }
  },
  "cells": [
    {
      "cell_type": "markdown",
      "source": [
        "**2.Keras_Tutorial.ipynb**"
      ],
      "metadata": {
        "id": "nBg3hPSz6KfD"
      }
    },
    {
      "cell_type": "code",
      "source": [
        "from tensorflow import keras\n",
        "from keras.models import Sequential\n",
        "from keras.layers import Dense\n",
        "\n",
        "import numpy as np\n",
        "data = np.random.random((1000, 10)) #隨機產生1000筆資料，每筆資料包含十個float數字\n",
        "labels = np.random.randint(2, size=(1000, 1)) #隨機產生1000筆資料，每筆資料上限為2(意思就是0 或 1)\n",
        "print(np.shape(data))\n",
        "print(data[0])\n",
        "print(np.shape(labels))\n",
        "print(labels[0])\n",
        "\n",
        "model = Sequential()\n",
        "model.add(Dense(32, activation='relu', input_dim=10))\n",
        "model.add(Dense(1, activation='sigmoid'))\n",
        "model.compile(optimizer='rmsprop', loss='binary_crossentropy', metrics=['accuracy'])\n",
        "\n",
        "model.fit(data, labels, epochs=10, batch_size=32)\n",
        "\n",
        "score=model.evaluate(data, labels)\n",
        "print(score[1])\n",
        ""
      ],
      "metadata": {
        "colab": {
          "base_uri": "https://localhost:8080/"
        },
        "id": "BCmFuZl46MAb",
        "outputId": "7a1c52f0-2bd6-4fdc-b06e-b85273486b8a"
      },
      "execution_count": 1,
      "outputs": [
        {
          "output_type": "stream",
          "name": "stdout",
          "text": [
            "(1000, 10)\n",
            "[0.63336985 0.4812779  0.09593745 0.50325844 0.93245504 0.69345612\n",
            " 0.26265491 0.7076393  0.69590165 0.47790766]\n",
            "(1000, 1)\n",
            "[0]\n",
            "Epoch 1/10\n",
            "32/32 [==============================] - 1s 3ms/step - loss: 0.6992 - accuracy: 0.5070\n",
            "Epoch 2/10\n",
            "32/32 [==============================] - 0s 2ms/step - loss: 0.6957 - accuracy: 0.5010\n",
            "Epoch 3/10\n",
            "32/32 [==============================] - 0s 2ms/step - loss: 0.6946 - accuracy: 0.5140\n",
            "Epoch 4/10\n",
            "32/32 [==============================] - 0s 2ms/step - loss: 0.6937 - accuracy: 0.5020\n",
            "Epoch 5/10\n",
            "32/32 [==============================] - 0s 5ms/step - loss: 0.6928 - accuracy: 0.5200\n",
            "Epoch 6/10\n",
            "32/32 [==============================] - 0s 3ms/step - loss: 0.6918 - accuracy: 0.5130\n",
            "Epoch 7/10\n",
            "32/32 [==============================] - 0s 3ms/step - loss: 0.6908 - accuracy: 0.5240\n",
            "Epoch 8/10\n",
            "32/32 [==============================] - 0s 3ms/step - loss: 0.6904 - accuracy: 0.5170\n",
            "Epoch 9/10\n",
            "32/32 [==============================] - 0s 3ms/step - loss: 0.6893 - accuracy: 0.5410\n",
            "Epoch 10/10\n",
            "32/32 [==============================] - 0s 3ms/step - loss: 0.6886 - accuracy: 0.5470\n",
            "32/32 [==============================] - 0s 3ms/step - loss: 0.6879 - accuracy: 0.5340\n",
            "0.5339999794960022\n"
          ]
        }
      ]
    },
    {
      "cell_type": "code",
      "source": [],
      "metadata": {
        "id": "MrPW2XWb6cAr"
      },
      "execution_count": null,
      "outputs": []
    }
  ]
}